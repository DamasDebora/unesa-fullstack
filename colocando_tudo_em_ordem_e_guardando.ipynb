{
  "nbformat": 4,
  "nbformat_minor": 0,
  "metadata": {
    "colab": {
      "provenance": [],
      "authorship_tag": "ABX9TyNIvbBCZbCcoFH5yNT6crB8",
      "include_colab_link": true
    },
    "kernelspec": {
      "name": "python3",
      "display_name": "Python 3"
    },
    "language_info": {
      "name": "python"
    }
  },
  "cells": [
    {
      "cell_type": "markdown",
      "metadata": {
        "id": "view-in-github",
        "colab_type": "text"
      },
      "source": [
        "<a href=\"https://colab.research.google.com/github/DamasDebora/unesa-fullstack/blob/1st-world/colocando_tudo_em_ordem_e_guardando.ipynb\" target=\"_parent\"><img src=\"https://colab.research.google.com/assets/colab-badge.svg\" alt=\"Open In Colab\"/></a>"
      ]
    },
    {
      "cell_type": "markdown",
      "source": [
        "Pacotes"
      ],
      "metadata": {
        "id": "5N4lffalJwVl"
      }
    },
    {
      "cell_type": "code",
      "execution_count": null,
      "metadata": {
        "id": "S5nnHZugHshl"
      },
      "outputs": [],
      "source": [
        "!pip install faker\n",
        "!pip install wordcloud\n",
        "!pip install num2words"
      ]
    },
    {
      "cell_type": "markdown",
      "source": [
        "Bibliotecas"
      ],
      "metadata": {
        "id": "oQyRkVSgKPg_"
      }
    },
    {
      "cell_type": "code",
      "source": [
        "import matplotlib.pyplot as h\n",
        "from faker import Faker\n",
        "from wordcloud import WordCloud\n",
        "from num2words import num2words"
      ],
      "metadata": {
        "id": "Hf4-bFnWKSiL"
      },
      "execution_count": null,
      "outputs": []
    },
    {
      "cell_type": "markdown",
      "source": [
        "Gerando os dados aleatórios falsos"
      ],
      "metadata": {
        "id": "UA0TezCpKWnu"
      }
    },
    {
      "cell_type": "code",
      "source": [
        "fake = Faker()\n",
        "data = []  # array vazio\n",
        "cloud_text = ''  # variável vazia p receber inteiros convertidos em texto\n",
        "\n",
        "for i in range(15):  # loop para a confecção dos dados\n",
        "\n",
        "    # 'random_note' recebe 'fake' com a func random de inteiros de 1 até 10\n",
        "    random_note = fake.random_int(1, 10)\n",
        "\n",
        "    # 'note_ext' recebe notas de inteiro q sao transformadas em texto\n",
        "    note_ext = num2words(random_note)\n",
        "\n",
        "    # dicionario contendo nome, nota e nota por extenso\n",
        "    student_data = {\n",
        "        'name': fake.name(),\n",
        "        'note': random_note,\n",
        "        'note_ext': note_ext\n",
        "    }\n",
        "\n",
        "    # puxando o dicionario pro array 'data'\n",
        "    data.append(student_data)\n",
        "    cloud_text += note_ext + ','\n",
        "    print(data[i])\n",
        "cloud_text.rstrip(',') # cortando ultima virgula"
      ],
      "metadata": {
        "id": "y_s0r5c9Khqk",
        "colab": {
          "base_uri": "https://localhost:8080/",
          "height": 296
        },
        "outputId": "84a8a34a-a0b8-4787-f6c9-2f0dc7470830"
      },
      "execution_count": null,
      "outputs": [
        {
          "output_type": "stream",
          "name": "stdout",
          "text": [
            "{'name': 'Joel Stanley', 'note': 9, 'note_ext': 'nine'}\n",
            "{'name': 'Gina Bowen', 'note': 5, 'note_ext': 'five'}\n",
            "{'name': 'Robert Conner PhD', 'note': 1, 'note_ext': 'one'}\n",
            "{'name': 'Tara Martinez', 'note': 1, 'note_ext': 'one'}\n",
            "{'name': 'Jonathan Romero', 'note': 6, 'note_ext': 'six'}\n",
            "{'name': 'Donald Young', 'note': 9, 'note_ext': 'nine'}\n",
            "{'name': 'Daniel Moore', 'note': 1, 'note_ext': 'one'}\n",
            "{'name': 'John Jackson', 'note': 3, 'note_ext': 'three'}\n",
            "{'name': 'William Padilla', 'note': 8, 'note_ext': 'eight'}\n",
            "{'name': 'Patrick Riley', 'note': 4, 'note_ext': 'four'}\n",
            "{'name': 'Gary Bowman', 'note': 10, 'note_ext': 'ten'}\n",
            "{'name': 'Justin Hartman', 'note': 10, 'note_ext': 'ten'}\n",
            "{'name': 'Steven Keller', 'note': 7, 'note_ext': 'seven'}\n",
            "{'name': 'Amy Grimes', 'note': 10, 'note_ext': 'ten'}\n",
            "{'name': 'Mary Morton', 'note': 3, 'note_ext': 'three'}\n"
          ]
        },
        {
          "output_type": "execute_result",
          "data": {
            "text/plain": [
              "'nine,five,one,one,six,nine,one,three,eight,four,ten,ten,seven,ten,three'"
            ],
            "application/vnd.google.colaboratory.intrinsic+json": {
              "type": "string"
            }
          },
          "metadata": {},
          "execution_count": 3
        }
      ]
    },
    {
      "cell_type": "markdown",
      "source": [
        "Escrevendo os dados em um arquivo texto"
      ],
      "metadata": {
        "id": "fqmhGT0mKp7Y"
      }
    },
    {
      "cell_type": "code",
      "source": [
        "# Abrindo o arquivo texto no modo escrita\n",
        "with open('dados.txt', 'w') as arq:\n",
        "\n",
        "    # loop para escrita dos dados no arquivo txt\n",
        "    for d in data:\n",
        "        arq.write(d['name'])\n",
        "        arq.write('\\n')\n",
        "        arq.write(str(d['note']))\n",
        "        arq.write('\\n')"
      ],
      "metadata": {
        "id": "FTJ0T9oTK8yf"
      },
      "execution_count": null,
      "outputs": []
    },
    {
      "cell_type": "markdown",
      "source": [
        "Plotando o histograma de notas"
      ],
      "metadata": {
        "id": "fnFqQOueLBfF"
      }
    },
    {
      "cell_type": "code",
      "source": [
        "# loop q acessa nota por nota dentro do array\n",
        "notes = [i['note'] for i in data]\n",
        "\n",
        "n, bins, _ = h.hist(notes, density=True)\n",
        "\n",
        "h.xlabel('Valor da nota') # x\n",
        "h.ylabel('Probabilidade') # y\n",
        "h.title('Histograma dos valores') # título\n",
        "h.grid(True)\n",
        "h.show() # mostrar histograma"
      ],
      "metadata": {
        "colab": {
          "base_uri": "https://localhost:8080/",
          "height": 295
        },
        "id": "kBGBe4EbLI4y",
        "outputId": "6664927c-efe7-4c55-946e-5b3d3cab8d94"
      },
      "execution_count": null,
      "outputs": [
        {
          "output_type": "display_data",
          "data": {
            "text/plain": [
              "<Figure size 432x288 with 1 Axes>"
            ],
            "image/png": "[encoded data removed]"
          },
          "metadata": {
            "needs_background": "light"
          }
        }
      ]
    },
    {
      "cell_type": "markdown",
      "source": [
        "Nuvem de palavras"
      ],
      "metadata": {
        "id": "OPudpilpLLaB"
      }
    },
    {
      "cell_type": "code",
      "source": [
        "# variavel que gera a wordcloud apartir dos textos armazenados em 'cloud_text'\n",
        "nuvem = WordCloud(background_color='grey',\n",
        "                  width=800, height=400).generate(cloud_text)\n",
        "h.imshow(nuvem, interpolation='bilinear')\n",
        "h.axis(\"off\")\n",
        "nuvem.to_file(\"Nuvem de palavras.png\")\n"
      ],
      "metadata": {
        "colab": {
          "base_uri": "https://localhost:8080/",
          "height": 215
        },
        "id": "fmBnxd72LXRi",
        "outputId": "146dd995-c862-46ca-8b0d-bd22d794caac"
      },
      "execution_count": null,
      "outputs": [
        {
          "output_type": "execute_result",
          "data": {
            "text/plain": [
              "<wordcloud.wordcloud.WordCloud at 0x7ff993736750>"
            ]
          },
          "metadata": {},
          "execution_count": 6
        },
        {
          "output_type": "display_data",
          "data": {
            "text/plain": [
              "<Figure size 432x288 with 1 Axes>"
            ],
            "image/png": "[encoded data removed]"
          },
          "metadata": {
            "needs_background": "light"
          }
        }
      ]
    }
  ]
}